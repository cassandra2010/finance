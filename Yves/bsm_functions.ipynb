{
 "cells": [
  {
   "cell_type": "code",
   "execution_count": null,
   "metadata": {},
   "outputs": [],
   "source": [
    "\"\"\"\n",
    "BSM functions (page 52 )\n",
    "\"\"\""
   ]
  },
  {
   "cell_type": "code",
   "execution_count": null,
   "metadata": {},
   "outputs": [],
   "source": [
    "from math import log,sqrt,exp\n",
    "from scipy import stats\n",
    "import pandas as pd"
   ]
  },
  {
   "cell_type": "code",
   "execution_count": null,
   "metadata": {},
   "outputs": [],
   "source": [
    "\"\"\"\n",
    "Valuation of European call options in BSM model including \n",
    "Vega function and implied volatility estimation\n",
    "\"\"\""
   ]
  },
  {
   "cell_type": "code",
   "execution_count": null,
   "metadata": {},
   "outputs": [],
   "source": [
    "#Analytical BSM formula\n",
    "\n",
    "def bsm_call_value(S0,K,T,r,sigma):\n",
    "    \"\"\"\n",
    "    parameters :\n",
    "    S0 : float ; initial stock / index level\n",
    "    K  : float ; strike price\n",
    "    T  : float ; maturity date(in year fractions)\n",
    "    r  : float ; constant risk free short rate\n",
    "    sigma : float ; volatility factor in diffusion term\n",
    "    \n",
    "    \n",
    "    Return :\n",
    "    value : float ; present value of the European call option\n",
    "    \"\"\"\n",
    "    \n",
    "    S0 = float(S0)\n",
    "    d1 = (log(S0 / K) + (r + 0.5 * sigma**2)*T )/ (sigma * sqrt(T))\n",
    "    d2 = (log(S0 / K) + (r - 0.5 * sigma**2)*T )/ (sigma * sqrt(T))\n",
    "    \n",
    "    value = (S0 * stats.norm.cdf(d1,0.0,1.0) - K*exp(-r*T) * stats.norm.cdf(d2,0.0,1.0))\n",
    "    \n",
    "    return value"
   ]
  },
  {
   "cell_type": "code",
   "execution_count": null,
   "metadata": {},
   "outputs": [],
   "source": [
    "# Vega function\n",
    "def bsm_vega(S0,K,T,r,sigma):\n",
    "    \"\"\"\n",
    "    parameters :\n",
    "    S0 : float ; initial stock / index level\n",
    "    K  : float ; strike price\n",
    "    T  : float ; maturity date(in year fractions)\n",
    "    r  : float ; constant risk free short rate\n",
    "    sigma : float ; volatility factor in diffusion term\n",
    "    \n",
    "    Return :\n",
    "    vega : float ; partial derivative of BSM formula with respect to sigma\n",
    "    \"\"\"\n",
    "    S0 = float(S0)\n",
    "    d1 = (log(S0 / K) + (r + 0.5 * sigma**2)*T )/ (sigma * sqrt(T))\n",
    "    vega = S0*stats.norm.cdf(d1,0.0,1.0)*sqrt(T)\n",
    "    return vega"
   ]
  },
  {
   "cell_type": "code",
   "execution_count": null,
   "metadata": {},
   "outputs": [],
   "source": [
    "# implied volatility function\n",
    "def bsm_call_imp_vol(S0,K,T,r,C0,sigma_est,it=100):\n",
    "    \"\"\"\n",
    "    parameters :\n",
    "    S0 : float ; initial stock / index level\n",
    "    K  : float ; strike price\n",
    "    T  : float ; maturity date(in year fractions)\n",
    "    r  : float ; constant risk free short rate\n",
    "    sigma_est : float ; estimate of implied volatility\n",
    "    it : integer ; number of iterations\n",
    "    \n",
    "    \n",
    "    Return :\n",
    "    sigma_est : float ; numerically estimated implied volatility\n",
    "    \"\"\"\n",
    "    \n",
    "    for i in range(it):\n",
    "        sigma_est -=((bsm_call_value(S0,K,T,r,sigma_est) - C0) / bsm_vega(S0,K,T,r,sigma_est))\n",
    "        \n",
    "    return sigma_est"
   ]
  },
  {
   "cell_type": "code",
   "execution_count": null,
   "metadata": {},
   "outputs": [],
   "source": [
    "# values as per book\n",
    "# data as uploaded by author\n",
    "# reference date taken : March 31 , 2014\n",
    "\n",
    "V0 = 17.6639\n",
    "r = 0.01\n",
    "\n",
    "h5 = pd.HDFStore('./home/cassandra/Shikha/Study/fin/Codes/vstoxx_data_31032014.h5','r')\n",
    "futures_data = h5['futures_data']\n",
    "options_data = h5['options_data']  # VSTOXX call option data\n",
    "h5.close()\n"
   ]
  },
  {
   "cell_type": "code",
   "execution_count": null,
   "metadata": {},
   "outputs": [],
   "source": [
    "futures_data"
   ]
  },
  {
   "cell_type": "code",
   "execution_count": null,
   "metadata": {},
   "outputs": [],
   "source": [
    "options_data.info()"
   ]
  },
  {
   "cell_type": "code",
   "execution_count": null,
   "metadata": {},
   "outputs": [],
   "source": [
    "options_data[['DATE','MATURITY','TTM','STRIKE','PRICE']].head()"
   ]
  },
  {
   "cell_type": "code",
   "execution_count": null,
   "metadata": {},
   "outputs": [],
   "source": [
    "options_data['IMP_VOL'] = 0.0  # new column for implied volatilities\n",
    "\n",
    "tol = 0.5 # tolerance level for moneyness\n",
    "\n",
    "for option in options_data.index :\n",
    "    #iterating over all option quotes\n",
    "    forward = futures_data[futures_data['MATURITY'] == options_data.loc[option]['MATURITY']]['PRICE'].values[0]\n",
    "    \n",
    "    #picking the right fututes value\n",
    "    if(forward*(1-tol) < options_data.loc[option]['STRIKE'] < forward * (1+tol)):\n",
    "        #only for options with moneyness within tolerance\n",
    "        imp_vol = bsm_call_imp_vol(V0,options_data.loc[option]['STRIKE'],options_data.loc[option]['TTM'],r,options_data.loc[option]['PRICE'],sigma_est = 2.,it=100)\n",
    "        \n",
    "        options_data['IMP_VOL'].loc[option] = imp_vol\n",
    "        \n",
    "        "
   ]
  },
  {
   "cell_type": "code",
   "execution_count": null,
   "metadata": {},
   "outputs": [],
   "source": [
    "plot_data = options_data[options_data['IMP_VOL']>0]\n",
    "maturities = sorted(set(options_data['MATURITY']))\n",
    "maturities"
   ]
  },
  {
   "cell_type": "code",
   "execution_count": null,
   "metadata": {},
   "outputs": [],
   "source": [
    "import matplotlib.pyplot as plt\n",
    "%matplotlib inline\n",
    "plt.figure(figsize=(8,6))\n",
    "for maturity in maturities:\n",
    "    data = plot_data[options_data.MATURITY == maturity]\n",
    "    plt.plot(data['STRIKE'],data['IMP_VOL'], label = maturity.date() , lw = 1.5)\n",
    "    plt.plot(data['STRIKE'],data['IMP_VOL'],'r.')\n",
    "plt.grid(True)\n",
    "plt.xlabel('strike')\n",
    "plt.ylabel('implied volatility of volatility')\n",
    "plt.legend()\n",
    "plt.show()\n"
   ]
  },
  {
   "cell_type": "code",
   "execution_count": null,
   "metadata": {},
   "outputs": [],
   "source": [
    "#group by maturity, then strike and keep the price and impl vol columns\n",
    "\n",
    "keep = ['PRICE','IMP_VOL']\n",
    "group_data = plot_data.groupby(['MATURITY','STRIKE'])[keep] # DataFrameGroupBy object is returned\n",
    "group_data"
   ]
  },
  {
   "cell_type": "code",
   "execution_count": null,
   "metadata": {},
   "outputs": [],
   "source": [
    "# ?? to egt the data we need to apply an aggregation op on the object eg sum. taking the sum yields the single data point since there is only one data element in every group\n",
    "group_data = group_data.sum()\n",
    "group_data.head()"
   ]
  },
  {
   "cell_type": "code",
   "execution_count": null,
   "metadata": {},
   "outputs": [],
   "source": [
    "# all values that the indices (maturity and strike) can take\n",
    "group_data.index.levels"
   ]
  }
 ],
 "metadata": {
  "kernelspec": {
   "display_name": "Python 2",
   "language": "python",
   "name": "python2"
  },
  "language_info": {
   "codemirror_mode": {
    "name": "ipython",
    "version": 2
   },
   "file_extension": ".py",
   "mimetype": "text/x-python",
   "name": "python",
   "nbconvert_exporter": "python",
   "pygments_lexer": "ipython2",
   "version": "2.7.15rc1"
  }
 },
 "nbformat": 4,
 "nbformat_minor": 2
}

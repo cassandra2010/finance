{
 "cells": [
  {
   "cell_type": "code",
   "execution_count": 1,
   "metadata": {},
   "outputs": [],
   "source": [
    "from time import time\n",
    "from math import exp,sqrt,log\n",
    "from random import gauss, seed"
   ]
  },
  {
   "cell_type": "code",
   "execution_count": 2,
   "metadata": {},
   "outputs": [
    {
     "data": {
      "text/plain": [
       "'/home/cassandra/Shikha/Study/fin/Codes'"
      ]
     },
     "execution_count": 2,
     "metadata": {},
     "output_type": "execute_result"
    }
   ],
   "source": [
    "import os\n",
    "os.getcwd() "
   ]
  },
  {
   "cell_type": "code",
   "execution_count": 3,
   "metadata": {},
   "outputs": [],
   "source": [
    "import sys\n",
    "sys.path.append(os.getcwd() )"
   ]
  },
  {
   "cell_type": "code",
   "execution_count": 10,
   "metadata": {},
   "outputs": [],
   "source": [
    "from bsm_functions import bsm_call_value"
   ]
  },
  {
   "cell_type": "code",
   "execution_count": 11,
   "metadata": {},
   "outputs": [
    {
     "data": {
      "text/plain": [
       "8.021352235143176"
      ]
     },
     "execution_count": 11,
     "metadata": {},
     "output_type": "execute_result"
    }
   ],
   "source": [
    "S0 = 100.\n",
    "K = 105.\n",
    "T = 1.0\n",
    "r = 0.05\n",
    "sigma = 0.2\n",
    "#the following will be the reference \"correct answer\"\n",
    "bsm_call_value(S0,K,T,r,sigma)"
   ]
  },
  {
   "cell_type": "code",
   "execution_count": 12,
   "metadata": {},
   "outputs": [],
   "source": [
    "seed(20000)\n",
    "\n",
    "# parameters\n",
    "S0 = 100.\n",
    "K = 105.\n",
    "T=1.0\n",
    "r=0.05\n",
    "sigma = 0.2\n",
    "M = 50 # number of time steps\n",
    "dt = T/M # length of time interval\n",
    "I = 250000 # number of paths\n",
    "\n",
    "\n"
   ]
  },
  {
   "cell_type": "code",
   "execution_count": 13,
   "metadata": {},
   "outputs": [
    {
     "name": "stdout",
     "output_type": "stream",
     "text": [
      "European Option Value   7.999\n",
      "Duration in Seconds   14.653\n"
     ]
    }
   ],
   "source": [
    "t0 = time()\n",
    "# simulating I paths with M time steps\n",
    "S=[]\n",
    "for i in range(I):\n",
    "    path = []\n",
    "    for t in range(M+1):\n",
    "        if t==0:\n",
    "            path.append(S0)\n",
    "        else:\n",
    "            z = gauss(0.0 , 1.0)\n",
    "            St = path[t-1]*exp((r-0.5*sigma**2)*dt + sigma*sqrt(dt)*z)\n",
    "            path.append(St)\n",
    "    S.append(path)\n",
    "# calculating MC estimator C0\n",
    "\n",
    "\n",
    "# list comprehension syntax\n",
    "C0 = exp(-r*T) * sum([max(path[-1] - K , 0) for path in S]) / I\n",
    "\n",
    "# Results output\n",
    "\n",
    "tpy = time() - t0\n",
    "print \"European Option Value %7.3f\" %C0\n",
    "print \"Duration in Seconds  %7.3f\" %tpy"
   ]
  },
  {
   "cell_type": "code",
   "execution_count": null,
   "metadata": {},
   "outputs": [],
   "source": []
  },
  {
   "cell_type": "code",
   "execution_count": null,
   "metadata": {},
   "outputs": [],
   "source": []
  }
 ],
 "metadata": {
  "kernelspec": {
   "display_name": "Python 2",
   "language": "python",
   "name": "python2"
  },
  "language_info": {
   "codemirror_mode": {
    "name": "ipython",
    "version": 2
   },
   "file_extension": ".py",
   "mimetype": "text/x-python",
   "name": "python",
   "nbconvert_exporter": "python",
   "pygments_lexer": "ipython2",
   "version": "2.7.15rc1"
  }
 },
 "nbformat": 4,
 "nbformat_minor": 2
}

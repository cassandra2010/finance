{
 "cells": [
  {
   "cell_type": "code",
   "execution_count": null,
   "metadata": {},
   "outputs": [],
   "source": [
    "\"\"\"\n",
    "Page 15 :\n",
    "valuation of a European call option by Monte Carlo simulation\n",
    "in BSM model\n",
    "\"\"\""
   ]
  },
  {
   "cell_type": "code",
   "execution_count": 12,
   "metadata": {},
   "outputs": [],
   "source": [
    "import numpy as np"
   ]
  },
  {
   "cell_type": "code",
   "execution_count": 16,
   "metadata": {},
   "outputs": [],
   "source": [
    "#parameter values\n",
    "S0 = 100.  #initial index level\n",
    "K = 105.  #strike price\n",
    "T = 1.0    # time to maturity\n",
    "r = 0.05    # riskless short rate\n",
    "sigma = 0.2    #volatility"
   ]
  },
  {
   "cell_type": "code",
   "execution_count": 72,
   "metadata": {},
   "outputs": [],
   "source": [
    "I = 1000000  # number of simulations\n",
    "z = np.random.standard_normal(I)\n",
    "#index values at maturity\n",
    "ST = S0 * np.exp((r - 0.5*sigma*sigma)*T + (sigma*z*np.sqrt(T)))\n",
    "#inner values at maturity\n",
    "hT = np.maximum(ST - K,0)\n",
    "#Monte Carlo estimator\n",
    "C0 = np.exp(-(r*T)) * sum(hT)/I"
   ]
  },
  {
   "cell_type": "code",
   "execution_count": 73,
   "metadata": {},
   "outputs": [
    {
     "name": "stdout",
     "output_type": "stream",
     "text": [
      "value of European call option 8.022\n"
     ]
    }
   ],
   "source": [
    "print \"value of European call option %5.3f\" %C0"
   ]
  }
 ],
 "metadata": {
  "kernelspec": {
   "display_name": "Python 2",
   "language": "python",
   "name": "python2"
  },
  "language_info": {
   "codemirror_mode": {
    "name": "ipython",
    "version": 2
   },
   "file_extension": ".py",
   "mimetype": "text/x-python",
   "name": "python",
   "nbconvert_exporter": "python",
   "pygments_lexer": "ipython2",
   "version": "2.7.15rc1"
  }
 },
 "nbformat": 4,
 "nbformat_minor": 2
}

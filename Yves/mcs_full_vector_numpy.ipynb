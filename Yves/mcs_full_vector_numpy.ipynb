{
 "cells": [
  {
   "cell_type": "code",
   "execution_count": null,
   "metadata": {},
   "outputs": [],
   "source": [
    "#log version of Euler discretization"
   ]
  },
  {
   "cell_type": "code",
   "execution_count": 1,
   "metadata": {},
   "outputs": [],
   "source": [
    "import math\n",
    "from numpy import *\n",
    "from time import time"
   ]
  },
  {
   "cell_type": "code",
   "execution_count": 4,
   "metadata": {},
   "outputs": [
    {
     "name": "stdout",
     "output_type": "stream",
     "text": [
      "European Option Value   8.166\n",
      "Duration in Seconds   0.944\n"
     ]
    }
   ],
   "source": [
    "random.seed(20000)\n",
    "t0 = time()\n",
    "# parameters\n",
    "S0 = 100.\n",
    "K = 105.\n",
    "T=1.0\n",
    "r=0.05\n",
    "sigma = 0.2\n",
    "M = 50 # number of time steps\n",
    "dt = T/M # length of time interval\n",
    "I = 250000 # number of paths\n",
    "\n",
    "# simulating I paths with M time steps\n",
    "S = S0 * exp(cumsum((r-0.5*sigma**2)*dt + sigma*math.sqrt(dt)*random.standard_normal((M+1,I)),axis =0))\n",
    "\n",
    "S[0] = S0\n",
    "\n",
    "C0 = math.exp(-r*T) * sum(maximum(S[-1] - K ,0)) / I\n",
    "\n",
    "tnp2 = time() -t0\n",
    "print \"European Option Value %7.3f\" %C0\n",
    "print \"Duration in Seconds %7.3f\" %tnp2"
   ]
  },
  {
   "cell_type": "code",
   "execution_count": null,
   "metadata": {},
   "outputs": [],
   "source": []
  }
 ],
 "metadata": {
  "kernelspec": {
   "display_name": "Python 2",
   "language": "python",
   "name": "python2"
  },
  "language_info": {
   "codemirror_mode": {
    "name": "ipython",
    "version": 2
   },
   "file_extension": ".py",
   "mimetype": "text/x-python",
   "name": "python",
   "nbconvert_exporter": "python",
   "pygments_lexer": "ipython2",
   "version": "2.7.15rc1"
  }
 },
 "nbformat": 4,
 "nbformat_minor": 2
}
